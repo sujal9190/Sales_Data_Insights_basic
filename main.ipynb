{
 "cells": [
  {
   "cell_type": "markdown",
   "id": "a48e3d1e",
   "metadata": {},
   "source": [
    "# Basic Sales Data Insights"
   ]
  },
  {
   "cell_type": "code",
   "execution_count": 1,
   "id": "f3756e8b",
   "metadata": {},
   "outputs": [],
   "source": [
    "# Importing required Libraries.\n",
    "import pandas as pd\n",
    "import numpy as np"
   ]
  },
  {
   "cell_type": "code",
   "execution_count": 2,
   "id": "8f06bc2b",
   "metadata": {},
   "outputs": [],
   "source": [
    "# importing dataset\n",
    "df = pd.read_csv('dataset.csv')"
   ]
  },
  {
   "cell_type": "markdown",
   "id": "88eadc41",
   "metadata": {},
   "source": [
    "## Overview of data"
   ]
  },
  {
   "cell_type": "code",
   "execution_count": 3,
   "id": "32343c5e",
   "metadata": {},
   "outputs": [
    {
     "data": {
      "text/html": [
       "<div>\n",
       "<style scoped>\n",
       "    .dataframe tbody tr th:only-of-type {\n",
       "        vertical-align: middle;\n",
       "    }\n",
       "\n",
       "    .dataframe tbody tr th {\n",
       "        vertical-align: top;\n",
       "    }\n",
       "\n",
       "    .dataframe thead th {\n",
       "        text-align: right;\n",
       "    }\n",
       "</style>\n",
       "<table border=\"1\" class=\"dataframe\">\n",
       "  <thead>\n",
       "    <tr style=\"text-align: right;\">\n",
       "      <th></th>\n",
       "      <th>OrderID</th>\n",
       "      <th>Date</th>\n",
       "      <th>Region</th>\n",
       "      <th>CustomerName</th>\n",
       "      <th>Product</th>\n",
       "      <th>Quantity</th>\n",
       "      <th>UnitPrice</th>\n",
       "      <th>TotalSales</th>\n",
       "      <th>PaymentMethod</th>\n",
       "    </tr>\n",
       "  </thead>\n",
       "  <tbody>\n",
       "    <tr>\n",
       "      <th>0</th>\n",
       "      <td>1001</td>\n",
       "      <td>2023-01-15</td>\n",
       "      <td>North</td>\n",
       "      <td>Alice Johnson</td>\n",
       "      <td>Laptop</td>\n",
       "      <td>2.0</td>\n",
       "      <td>700.0</td>\n",
       "      <td>1400.0</td>\n",
       "      <td>Credit Card</td>\n",
       "    </tr>\n",
       "    <tr>\n",
       "      <th>1</th>\n",
       "      <td>1002</td>\n",
       "      <td>2023-01-16</td>\n",
       "      <td>South</td>\n",
       "      <td>Rahul Mehta</td>\n",
       "      <td>Mobile Phone</td>\n",
       "      <td>5.0</td>\n",
       "      <td>300.0</td>\n",
       "      <td>1500.0</td>\n",
       "      <td>UPI</td>\n",
       "    </tr>\n",
       "    <tr>\n",
       "      <th>2</th>\n",
       "      <td>1003</td>\n",
       "      <td>2023-01-17</td>\n",
       "      <td>East</td>\n",
       "      <td>Fatima Noor</td>\n",
       "      <td>Headphones</td>\n",
       "      <td>10.0</td>\n",
       "      <td>50.0</td>\n",
       "      <td>500.0</td>\n",
       "      <td>Debit Card</td>\n",
       "    </tr>\n",
       "    <tr>\n",
       "      <th>3</th>\n",
       "      <td>1004</td>\n",
       "      <td>2023-01-18</td>\n",
       "      <td>West</td>\n",
       "      <td>NaN</td>\n",
       "      <td>Laptop</td>\n",
       "      <td>1.0</td>\n",
       "      <td>720.0</td>\n",
       "      <td>720.0</td>\n",
       "      <td>Credit Card</td>\n",
       "    </tr>\n",
       "    <tr>\n",
       "      <th>4</th>\n",
       "      <td>1005</td>\n",
       "      <td>2023-01-19</td>\n",
       "      <td>North</td>\n",
       "      <td>Zoe Carter</td>\n",
       "      <td>Mobile Phone</td>\n",
       "      <td>3.0</td>\n",
       "      <td>NaN</td>\n",
       "      <td>NaN</td>\n",
       "      <td>UPI</td>\n",
       "    </tr>\n",
       "  </tbody>\n",
       "</table>\n",
       "</div>"
      ],
      "text/plain": [
       "   OrderID        Date Region   CustomerName       Product  Quantity  \\\n",
       "0     1001  2023-01-15  North  Alice Johnson        Laptop       2.0   \n",
       "1     1002  2023-01-16  South    Rahul Mehta  Mobile Phone       5.0   \n",
       "2     1003  2023-01-17   East    Fatima Noor    Headphones      10.0   \n",
       "3     1004  2023-01-18   West            NaN        Laptop       1.0   \n",
       "4     1005  2023-01-19  North     Zoe Carter  Mobile Phone       3.0   \n",
       "\n",
       "   UnitPrice  TotalSales PaymentMethod  \n",
       "0      700.0      1400.0   Credit Card  \n",
       "1      300.0      1500.0           UPI  \n",
       "2       50.0       500.0    Debit Card  \n",
       "3      720.0       720.0   Credit Card  \n",
       "4        NaN         NaN           UPI  "
      ]
     },
     "execution_count": 3,
     "metadata": {},
     "output_type": "execute_result"
    }
   ],
   "source": [
    "df.head()"
   ]
  },
  {
   "cell_type": "code",
   "execution_count": 4,
   "id": "b1a8f3b6",
   "metadata": {},
   "outputs": [
    {
     "data": {
      "text/plain": [
       "OrderID          0\n",
       "Date             0\n",
       "Region           0\n",
       "CustomerName     2\n",
       "Product          0\n",
       "Quantity         1\n",
       "UnitPrice        2\n",
       "TotalSales       2\n",
       "PaymentMethod    0\n",
       "dtype: int64"
      ]
     },
     "execution_count": 4,
     "metadata": {},
     "output_type": "execute_result"
    }
   ],
   "source": [
    "df.isnull().sum()"
   ]
  },
  {
   "cell_type": "code",
   "execution_count": 5,
   "id": "fe62320b",
   "metadata": {},
   "outputs": [
    {
     "name": "stdout",
     "output_type": "stream",
     "text": [
      "<class 'pandas.core.frame.DataFrame'>\n",
      "RangeIndex: 20 entries, 0 to 19\n",
      "Data columns (total 9 columns):\n",
      " #   Column         Non-Null Count  Dtype  \n",
      "---  ------         --------------  -----  \n",
      " 0   OrderID        20 non-null     int64  \n",
      " 1   Date           20 non-null     object \n",
      " 2   Region         20 non-null     object \n",
      " 3   CustomerName   18 non-null     object \n",
      " 4   Product        20 non-null     object \n",
      " 5   Quantity       19 non-null     float64\n",
      " 6   UnitPrice      18 non-null     float64\n",
      " 7   TotalSales     18 non-null     float64\n",
      " 8   PaymentMethod  20 non-null     object \n",
      "dtypes: float64(3), int64(1), object(5)\n",
      "memory usage: 1.5+ KB\n"
     ]
    }
   ],
   "source": [
    "df.info()"
   ]
  },
  {
   "cell_type": "markdown",
   "id": "5513d9d3",
   "metadata": {},
   "source": [
    "## Data Cleaning"
   ]
  },
  {
   "cell_type": "code",
   "execution_count": 6,
   "id": "d091d6d2",
   "metadata": {},
   "outputs": [],
   "source": [
    "df['Date'] = pd.to_datetime(df['Date'])"
   ]
  },
  {
   "cell_type": "code",
   "execution_count": 7,
   "id": "110e6060",
   "metadata": {},
   "outputs": [],
   "source": [
    "df = df.dropna(subset=['CustomerName'])"
   ]
  },
  {
   "cell_type": "code",
   "execution_count": 8,
   "id": "1160f903",
   "metadata": {},
   "outputs": [],
   "source": [
    "cols = ['Quantity', 'UnitPrice', 'TotalSales']\n",
    "df['null_count'] = df[cols].isnull().sum(axis=1)\n",
    "df = df[df['null_count']<2]\n",
    "df = df.drop(columns='null_count')"
   ]
  },
  {
   "cell_type": "code",
   "execution_count": 9,
   "id": "5e625474",
   "metadata": {},
   "outputs": [],
   "source": [
    "df.loc[df['UnitPrice'].isnull(), 'UnitPrice'] = (df['TotalSales'] / df['Quantity'])"
   ]
  },
  {
   "cell_type": "markdown",
   "id": "31b1802a",
   "metadata": {},
   "source": [
    "## Insights"
   ]
  },
  {
   "cell_type": "markdown",
   "id": "44385abd",
   "metadata": {},
   "source": [
    "### Sum of sales by region"
   ]
  },
  {
   "cell_type": "code",
   "execution_count": 10,
   "id": "ed702f63",
   "metadata": {},
   "outputs": [
    {
     "data": {
      "text/plain": [
       "Region\n",
       "East     2520.0\n",
       "North    3765.0\n",
       "South    3830.0\n",
       "West     1285.0\n",
       "Name: TotalSales, dtype: float64"
      ]
     },
     "execution_count": 10,
     "metadata": {},
     "output_type": "execute_result"
    }
   ],
   "source": [
    "sale_by_region = df.groupby('Region')['TotalSales'].sum()\n",
    "sale_by_region"
   ]
  },
  {
   "cell_type": "markdown",
   "id": "3a88b7d4",
   "metadata": {},
   "source": [
    "### Average sales per product"
   ]
  },
  {
   "cell_type": "code",
   "execution_count": 11,
   "id": "06d1993a",
   "metadata": {},
   "outputs": [
    {
     "name": "stdout",
     "output_type": "stream",
     "text": [
      "Product\n",
      "Headphones       415.0\n",
      "Keyboard         342.5\n",
      "Laptop          1052.5\n",
      "Mobile Phone     897.5\n",
      "Monitor          492.5\n",
      "Smart Watch      200.0\n",
      "Tablet           900.0\n",
      "Name: TotalSales, dtype: float64\n"
     ]
    }
   ],
   "source": [
    "avg_sale_product = df.groupby('Product')['TotalSales'].mean()\n",
    "print(avg_sale_product)"
   ]
  },
  {
   "cell_type": "markdown",
   "id": "67ada216",
   "metadata": {},
   "source": [
    "### Highest & lowest selling products"
   ]
  },
  {
   "cell_type": "code",
   "execution_count": 12,
   "id": "9d8ac248",
   "metadata": {},
   "outputs": [
    {
     "name": "stdout",
     "output_type": "stream",
     "text": [
      "Highest Selling Product: Laptop, Total: 4210.0\n",
      "Lowest Selling Product: Smart Watch, Total: 200.0\n"
     ]
    }
   ],
   "source": [
    "product_Sales = df.groupby('Product')['TotalSales'].sum()\n",
    "highest = product_Sales.idxmax()\n",
    "lowest = product_Sales.idxmin()\n",
    "print(f'Highest Selling Product: {highest}, Total: {product_Sales[highest]}')\n",
    "print(f'Lowest Selling Product: {lowest}, Total: {product_Sales[lowest]}')"
   ]
  },
  {
   "cell_type": "markdown",
   "id": "991a9f68",
   "metadata": {},
   "source": [
    "### mean, median, standard deviation of numerical fields"
   ]
  },
  {
   "cell_type": "code",
   "execution_count": 13,
   "id": "2683de86",
   "metadata": {},
   "outputs": [
    {
     "name": "stdout",
     "output_type": "stream",
     "text": [
      "Quantity Mean = 3.0625\n",
      "Quantity Median = 2.0\n",
      "Quantity Std Div = 2.3040385738958453\n",
      "\n",
      "UnitPrice Mean = 334.375\n",
      "UnitPrice Median = 292.5\n",
      "UnitPrice Std Div = 235.5172167273552\n",
      "\n",
      "TotalSales Mean = 712.5\n",
      "TotalSales Median = 602.5\n",
      "TotalSales Std Div = 422.407534260458\n",
      "\n"
     ]
    }
   ],
   "source": [
    "numeric_c = ['Quantity','UnitPrice', 'TotalSales']\n",
    "for i in numeric_c:\n",
    "    print(f'{i} Mean = {np.mean(df[i])}')\n",
    "    print(f'{i} Median = {np.median(df[i])}')\n",
    "    print(f'{i} Std Div = {np.std(df[i])}')\n",
    "    print()"
   ]
  }
 ],
 "metadata": {
  "kernelspec": {
   "display_name": "Python 3",
   "language": "python",
   "name": "python3"
  },
  "language_info": {
   "codemirror_mode": {
    "name": "ipython",
    "version": 3
   },
   "file_extension": ".py",
   "mimetype": "text/x-python",
   "name": "python",
   "nbconvert_exporter": "python",
   "pygments_lexer": "ipython3",
   "version": "3.11.9"
  }
 },
 "nbformat": 4,
 "nbformat_minor": 5
}
